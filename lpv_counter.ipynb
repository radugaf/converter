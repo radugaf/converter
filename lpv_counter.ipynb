{
 "cells": [
  {
   "cell_type": "code",
   "execution_count": 102,
   "id": "3ef3f19d-4b31-4545-a78f-1340588e64ea",
   "metadata": {},
   "outputs": [
    {
     "output_type": "execute_result",
     "data": {
      "text/plain": [
       "    Data Intrare                                            Comanda  \\\n",
       "0         28-Apr                       8 x prajituri STEVIA vitrina   \n",
       "1         14-Apr  Tort de Bezea cu Ciocolata\\nGreutate: 1.4 kg (...   \n",
       "2         30-Apr                     \\n'1 x tort tonka stevia 1.2\\n   \n",
       "3         26-Apr  1 x Tort cu Fistic si Zmeura cu Stevie\\nGreuta...   \n",
       "4         28-Apr  Carrot Cake cu Stevie\\nGreutate: 1.4 kg (9 per...   \n",
       "..           ...                                                ...   \n",
       "420       14-May  1 x Tort 3 etaje din care: ultimul real\\ncu me...   \n",
       "421        9-May  28 x Choux a la Crème Fistic\\n28 x Macarons Un...   \n",
       "422       25-Mar  1 x macheta tort ca in Poza 1 (3 etaje || etaj...   \n",
       "423       19-Feb  \\n\\n\\n\\n\\n\\n1 x tort macheta (3 etaje macheta ...   \n",
       "424        1-Mar  1 x amenajare candy-bar\\n+\\n47 x Choux a la Cr...   \n",
       "\n",
       "                                                Contor Data Livrare  \n",
       "0    Alte Prajituri\\r\\nAlte Prajituri\\r\\nAlte Praji...     5/4/2021  \n",
       "1                       Tort Bezea cu Ciocolata 1.4 kg     5/4/2021  \n",
       "2      Tort Tonkka 1.4 kg cu Stevie\\rTort Tonka 1.4 kg     5/4/2021  \n",
       "3               Tort Fistik si Zmeura 1.4 kg cu Stevia     5/4/2021  \n",
       "4                     Tort Carot Cake 1.4 kg cu Stevia     5/4/2021  \n",
       "..                                                 ...          ...  \n",
       "420                                       Tort Decorat    6/20/2021  \n",
       "421                                         Acandy-bar    6/26/2021  \n",
       "422                                         Acandy-bar    6/27/2021  \n",
       "423                           Tort Decorat\\rAcandy-bar    7/17/2021  \n",
       "424                                         Acandy-bar    7/18/2021  \n",
       "\n",
       "[397 rows x 4 columns]"
      ],
      "text/html": "<div>\n<style scoped>\n    .dataframe tbody tr th:only-of-type {\n        vertical-align: middle;\n    }\n\n    .dataframe tbody tr th {\n        vertical-align: top;\n    }\n\n    .dataframe thead th {\n        text-align: right;\n    }\n</style>\n<table border=\"1\" class=\"dataframe\">\n  <thead>\n    <tr style=\"text-align: right;\">\n      <th></th>\n      <th>Data Intrare</th>\n      <th>Comanda</th>\n      <th>Contor</th>\n      <th>Data Livrare</th>\n    </tr>\n  </thead>\n  <tbody>\n    <tr>\n      <th>0</th>\n      <td>28-Apr</td>\n      <td>8 x prajituri STEVIA vitrina</td>\n      <td>Alte Prajituri\\r\\nAlte Prajituri\\r\\nAlte Praji...</td>\n      <td>5/4/2021</td>\n    </tr>\n    <tr>\n      <th>1</th>\n      <td>14-Apr</td>\n      <td>Tort de Bezea cu Ciocolata\\nGreutate: 1.4 kg (...</td>\n      <td>Tort Bezea cu Ciocolata 1.4 kg</td>\n      <td>5/4/2021</td>\n    </tr>\n    <tr>\n      <th>2</th>\n      <td>30-Apr</td>\n      <td>\\n'1 x tort tonka stevia 1.2\\n</td>\n      <td>Tort Tonkka 1.4 kg cu Stevie\\rTort Tonka 1.4 kg</td>\n      <td>5/4/2021</td>\n    </tr>\n    <tr>\n      <th>3</th>\n      <td>26-Apr</td>\n      <td>1 x Tort cu Fistic si Zmeura cu Stevie\\nGreuta...</td>\n      <td>Tort Fistik si Zmeura 1.4 kg cu Stevia</td>\n      <td>5/4/2021</td>\n    </tr>\n    <tr>\n      <th>4</th>\n      <td>28-Apr</td>\n      <td>Carrot Cake cu Stevie\\nGreutate: 1.4 kg (9 per...</td>\n      <td>Tort Carot Cake 1.4 kg cu Stevia</td>\n      <td>5/4/2021</td>\n    </tr>\n    <tr>\n      <th>...</th>\n      <td>...</td>\n      <td>...</td>\n      <td>...</td>\n      <td>...</td>\n    </tr>\n    <tr>\n      <th>420</th>\n      <td>14-May</td>\n      <td>1 x Tort 3 etaje din care: ultimul real\\ncu me...</td>\n      <td>Tort Decorat</td>\n      <td>6/20/2021</td>\n    </tr>\n    <tr>\n      <th>421</th>\n      <td>9-May</td>\n      <td>28 x Choux a la Crème Fistic\\n28 x Macarons Un...</td>\n      <td>Acandy-bar</td>\n      <td>6/26/2021</td>\n    </tr>\n    <tr>\n      <th>422</th>\n      <td>25-Mar</td>\n      <td>1 x macheta tort ca in Poza 1 (3 etaje || etaj...</td>\n      <td>Acandy-bar</td>\n      <td>6/27/2021</td>\n    </tr>\n    <tr>\n      <th>423</th>\n      <td>19-Feb</td>\n      <td>\\n\\n\\n\\n\\n\\n1 x tort macheta (3 etaje macheta ...</td>\n      <td>Tort Decorat\\rAcandy-bar</td>\n      <td>7/17/2021</td>\n    </tr>\n    <tr>\n      <th>424</th>\n      <td>1-Mar</td>\n      <td>1 x amenajare candy-bar\\n+\\n47 x Choux a la Cr...</td>\n      <td>Acandy-bar</td>\n      <td>7/18/2021</td>\n    </tr>\n  </tbody>\n</table>\n<p>397 rows × 4 columns</p>\n</div>"
     },
     "metadata": {},
     "execution_count": 102
    }
   ],
   "source": [
    "import pandas as pd\n",
    "from dateutil import parser\n",
    "from datetime import datetime\n",
    "\n",
    "df = pd.read_csv(\"comenzi2.csv\")\n",
    "mask = df['Data Livrare'].isin(['anulata', 'ANULATA', 'anulat', 'Anulata', 'Anulat', 'ANULAT', 'Amanat'])\n",
    "df = df[~mask]\n",
    "df.drop(df.columns[[1, 2, 3, 5, 7, 9, 10, 11, 12, 13, 14, 15, 16]], axis = 1, inplace = True)\n",
    "# df['Comanda'].str.count(\"Tort Carrot Cake\").sum()\n",
    "new_df = df.dropna()\n",
    "# new_df[\"Data Livrare\"] = pd.to_datetime(new_df[\"Data Livrare\"])\n",
    "# new_df.sort(\"Data Livrare\")\n",
    "new_df"
   ]
  },
  {
   "cell_type": "code",
   "execution_count": 33,
   "metadata": {},
   "outputs": [
    {
     "output_type": "execute_result",
     "data": {
      "text/plain": [
       "1 x Platou Mini Prajituri 5 persoane                                                                                                                                                                                                                                                                                                             3\n",
       "Tort Duo Mousse cu Visine cu Stevie\\nGreutate: 1.2 kg (8 persoane)                                                                                                                                                                                                                                                                               2\n",
       "1 x Platou 30 macarons\\n\\n                                                                                                                                                                                                                                                                                                                       2\n",
       "Tort Chocolate Fiesta\\nGreutate: 2 kg (13 persoane)\\nMesaj Personalizat: La multi ani!                                                                                                                                                                                                                                                           2\n",
       "1 x tarta mere 2.5 kg                                                                                                                                                                                                                                                                                                                            2\n",
       "                                                                                                                                                                                                                                                                                                                                                ..\n",
       "1 x tort berry chocolate 6 kg in total decorat ca in poza 1, cu mesajul La Multi Ani \"Pisi\"                                                                                                                                                                                                                                                      1\n",
       "1 x amenajare plus vesela\\nCulorile: roz, auriu, alb , lila\\n29 x Choux a la Crème Fistic\\n29 x Macarons Culori Tematice\\n29 x Mini Tarta Ciocolata si Caramel\\n29 x Mini Tarta Lamaie si Bezea Flambata\\n29 x Mini Pavlova\\n29 x Mini Tarta Fructe\\n19 x Pahar Tiramisu\\n19 x Ecler Artizanal\\n19 x Cake Pops Tematice\\n10 x Briose Tematice    1\n",
       "Monoportii stevia \\n2x dmv stevia\\n2x tonka stevia\\n2x cremsnit stevia\\n----------------\\n Torturi\\n1x tort redvelvet 1.4 kg\\n1x tort clasic 1.4 kg\\n-----------\\n2x platou miniprajituri \\n\\n(daca nu este ceva nu se pune)                                                                                                                     1\n",
       "Carrot Cake cu Stevie\\nGreutate: 1.4 kg (9 persoane)\\nMesaj Personalizat: La mulți ani, puiuț drăguț simpatic și micuț!                                                                                                                                                                                                                          1\n",
       "Candy-Bar cu amenajare\\n---\\n56 x Choux a la Crème Fistic\\n56 x Macarons Culori Tematice\\n56 x Mini Tarta Ciocolata si Caramel\\n56 x Mini Tarta Lamaie si Bezea Flambata\\n56 x Mini Pavlova\\n56 x Mini Tarta Fructe\\n36 x Pahar Tiramisu\\n36 x Ecler Artizanal\\n36 x Cake Pops Tematice\\n18 x Briose Tematice                                    1\n",
       "Name: Comanda, Length: 445, dtype: int64"
      ]
     },
     "metadata": {},
     "execution_count": 33
    }
   ],
   "source": []
  }
 ],
 "metadata": {
  "kernelspec": {
   "display_name": "Python 3",
   "language": "python",
   "name": "python3"
  },
  "language_info": {
   "codemirror_mode": {
    "name": "ipython",
    "version": 3
   },
   "file_extension": ".py",
   "mimetype": "text/x-python",
   "name": "python",
   "nbconvert_exporter": "python",
   "pygments_lexer": "ipython3",
   "version": "3.9.4"
  }
 },
 "nbformat": 4,
 "nbformat_minor": 5
}